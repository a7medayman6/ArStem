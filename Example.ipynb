{
 "cells": [
  {
   "cell_type": "code",
   "execution_count": 1,
   "metadata": {},
   "outputs": [],
   "source": [
    "from ArStem import ArabicStemmer\n",
    "stemmer = ArabicStemmer()"
   ]
  },
  {
   "cell_type": "code",
   "execution_count": 2,
   "metadata": {},
   "outputs": [
    {
     "data": {
      "text/html": [
       "<div>\n",
       "<style scoped>\n",
       "    .dataframe tbody tr th:only-of-type {\n",
       "        vertical-align: middle;\n",
       "    }\n",
       "\n",
       "    .dataframe tbody tr th {\n",
       "        vertical-align: top;\n",
       "    }\n",
       "\n",
       "    .dataframe thead th {\n",
       "        text-align: right;\n",
       "    }\n",
       "</style>\n",
       "<table border=\"1\" class=\"dataframe\">\n",
       "  <thead>\n",
       "    <tr style=\"text-align: right;\">\n",
       "      <th></th>\n",
       "      <th>Tokens</th>\n",
       "      <th>Normalized Tokens</th>\n",
       "      <th>Def Articles Removed</th>\n",
       "      <th>Suffex Removed</th>\n",
       "      <th>Prefex Removed</th>\n",
       "      <th>Last Suffex Removed</th>\n",
       "      <th>Root</th>\n",
       "    </tr>\n",
       "  </thead>\n",
       "  <tbody>\n",
       "    <tr>\n",
       "      <th>0</th>\n",
       "      <td>فاستضعفناهما</td>\n",
       "      <td>فاستضعفناهما</td>\n",
       "      <td>فاستضعفناهما</td>\n",
       "      <td>فاستضعف</td>\n",
       "      <td>ضعف</td>\n",
       "      <td>ضعف</td>\n",
       "      <td>ضعف</td>\n",
       "    </tr>\n",
       "    <tr>\n",
       "      <th>1</th>\n",
       "      <td>المستصغرون</td>\n",
       "      <td>المستصغرون</td>\n",
       "      <td>مستصغرون</td>\n",
       "      <td>مستصغر</td>\n",
       "      <td>صغر</td>\n",
       "      <td>صغر</td>\n",
       "      <td>صغر</td>\n",
       "    </tr>\n",
       "    <tr>\n",
       "      <th>2</th>\n",
       "      <td>فاسقيناكموها</td>\n",
       "      <td>فاسقيناكموها</td>\n",
       "      <td>فاسقيناكموها</td>\n",
       "      <td>فاسقي</td>\n",
       "      <td>سقي</td>\n",
       "      <td>سقي</td>\n",
       "      <td>سقي</td>\n",
       "    </tr>\n",
       "    <tr>\n",
       "      <th>3</th>\n",
       "      <td>أفاستسقيناكموها</td>\n",
       "      <td>افاستسقيناكموها</td>\n",
       "      <td>فاستسقيناكموها</td>\n",
       "      <td>فاستسقي</td>\n",
       "      <td>سقي</td>\n",
       "      <td>سقي</td>\n",
       "      <td>سقي</td>\n",
       "    </tr>\n",
       "    <tr>\n",
       "      <th>4</th>\n",
       "      <td>وليتلطف</td>\n",
       "      <td>وليتلطف</td>\n",
       "      <td>وليتلطف</td>\n",
       "      <td>وليتلطف</td>\n",
       "      <td>لطف</td>\n",
       "      <td>لطف</td>\n",
       "      <td>لطف</td>\n",
       "    </tr>\n",
       "  </tbody>\n",
       "</table>\n",
       "</div>"
      ],
      "text/plain": [
       "            Tokens Normalized Tokens Def Articles Removed Suffex Removed  \\\n",
       "0     فاستضعفناهما      فاستضعفناهما         فاستضعفناهما        فاستضعف   \n",
       "1       المستصغرون        المستصغرون             مستصغرون         مستصغر   \n",
       "2     فاسقيناكموها      فاسقيناكموها         فاسقيناكموها          فاسقي   \n",
       "3  أفاستسقيناكموها   افاستسقيناكموها       فاستسقيناكموها        فاستسقي   \n",
       "4          وليتلطف           وليتلطف              وليتلطف        وليتلطف   \n",
       "\n",
       "  Prefex Removed Last Suffex Removed Root  \n",
       "0            ضعف                 ضعف  ضعف  \n",
       "1            صغر                 صغر  صغر  \n",
       "2            سقي                 سقي  سقي  \n",
       "3            سقي                 سقي  سقي  \n",
       "4            لطف                 لطف  لطف  "
      ]
     },
     "execution_count": 2,
     "metadata": {},
     "output_type": "execute_result"
    }
   ],
   "source": [
    "str = \"فاستضعفناهما المستصغرون فاسقيناكموها أفاستسقيناكموها وليتلطف\"\n",
    "stemmed, df = stemmer.stem(str, verbose=True)\n",
    "df"
   ]
  },
  {
   "cell_type": "code",
   "execution_count": 3,
   "metadata": {},
   "outputs": [
    {
     "data": {
      "text/plain": [
       "'ضعف صغر سقي سقي لطف'"
      ]
     },
     "execution_count": 3,
     "metadata": {},
     "output_type": "execute_result"
    }
   ],
   "source": [
    "stemmed"
   ]
  },
  {
   "cell_type": "code",
   "execution_count": null,
   "metadata": {},
   "outputs": [],
   "source": []
  }
 ],
 "metadata": {
  "interpreter": {
   "hash": "d8e518bbc4bf3f1713d336421ab73117aceb15495afbfbd0c0d80b0940bfe5fd"
  },
  "kernelspec": {
   "display_name": "Python 3.9.7 ('base')",
   "language": "python",
   "name": "python3"
  },
  "language_info": {
   "codemirror_mode": {
    "name": "ipython",
    "version": 3
   },
   "file_extension": ".py",
   "mimetype": "text/x-python",
   "name": "python",
   "nbconvert_exporter": "python",
   "pygments_lexer": "ipython3",
   "version": "3.9.7"
  },
  "orig_nbformat": 4
 },
 "nbformat": 4,
 "nbformat_minor": 2
}
